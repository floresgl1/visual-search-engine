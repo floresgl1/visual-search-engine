{
 "cells": [
  {
   "cell_type": "code",
   "execution_count": 2,
   "id": "6743aa8e-4b17-4d41-b943-12398decd775",
   "metadata": {},
   "outputs": [
    {
     "name": "stdout",
     "output_type": "stream",
     "text": [
      "PyTorch version: 2.8.0+cpu\n",
      "CUDA available: False\n",
      "Using CPU (this will be slower)\n",
      "\n",
      "✅ Imports successful\n"
     ]
    }
   ],
   "source": [
    "# Cell 1: Setup and Imports\n",
    "import torch\n",
    "import numpy as np\n",
    "import json\n",
    "from pathlib import Path\n",
    "from PIL import Image\n",
    "import matplotlib.pyplot as plt\n",
    "from tqdm import tqdm\n",
    "import sys\n",
    "\n",
    "# Check PyTorch and CUDA\n",
    "print(f\"PyTorch version: {torch.__version__}\")\n",
    "print(f\"CUDA available: {torch.cuda.is_available()}\")\n",
    "if torch.cuda.is_available():\n",
    "    print(f\"CUDA device: {torch.cuda.get_device_name(0)}\")\n",
    "else:\n",
    "    print(\"Using CPU (this will be slower)\")\n",
    "\n",
    "print(\"\\n✅ Imports successful\")"
   ]
  },
  {
   "cell_type": "code",
   "execution_count": 8,
   "id": "a49c7944-a6c5-409c-ba79-ff713ec8ded3",
   "metadata": {},
   "outputs": [
    {
     "name": "stdout",
     "output_type": "stream",
     "text": [
      "✅ Configuration loaded\n",
      "BASE_PATH: C:\\Users\\00849\\visual-search-engine\n",
      "PROCESSED_PATH: C:\\Users\\00849\\visual-search-engine\\data\\processed\n",
      "Device: cpu\n",
      "Model: openai/clip-vit-base-patch32\n",
      "Batch size: 8\n"
     ]
    }
   ],
   "source": [
    "# Cell 2: Configuration\n",
    "class Config:\n",
    "    # Paths - Use '..' to go up one level from notebooks/\n",
    "    BASE_PATH = Path('..')  # Changed from Path('.')\n",
    "    DATA_PATH = BASE_PATH / 'data'\n",
    "    PROCESSED_PATH = DATA_PATH / 'processed'\n",
    "    EMBEDDINGS_PATH = DATA_PATH / 'embeddings'\n",
    "    IMAGE_PATH = DATA_PATH / 'raw' / 'images'\n",
    "    \n",
    "    # Model settings\n",
    "    CLIP_MODEL_NAME = \"openai/clip-vit-base-patch32\"\n",
    "    DEVICE = \"cuda\" if torch.cuda.is_available() else \"cpu\"\n",
    "    BATCH_SIZE = 8  # Adjust based on your memory\n",
    "    \n",
    "    # Image settings\n",
    "    IMAGE_SIZE = 224\n",
    "\n",
    "# Create embeddings directory\n",
    "Config.EMBEDDINGS_PATH.mkdir(exist_ok=True, parents=True)\n",
    "\n",
    "print(f\"✅ Configuration loaded\")\n",
    "print(f\"BASE_PATH: {Config.BASE_PATH.resolve()}\")\n",
    "print(f\"PROCESSED_PATH: {Config.PROCESSED_PATH.resolve()}\")\n",
    "print(f\"Device: {Config.DEVICE}\")\n",
    "print(f\"Model: {Config.CLIP_MODEL_NAME}\")\n",
    "print(f\"Batch size: {Config.BATCH_SIZE}\")"
   ]
  },
  {
   "cell_type": "code",
   "execution_count": 9,
   "id": "fafbaacd-fb58-46d7-a5fd-3ab6c8bd6f9e",
   "metadata": {},
   "outputs": [
    {
     "name": "stdout",
     "output_type": "stream",
     "text": [
      "Loading CLIP model...\n"
     ]
    },
    {
     "name": "stderr",
     "output_type": "stream",
     "text": [
      "Xet Storage is enabled for this repo, but the 'hf_xet' package is not installed. Falling back to regular HTTP download. For better performance, install the package with: `pip install huggingface_hub[hf_xet]` or `pip install hf_xet`\n"
     ]
    },
    {
     "name": "stdout",
     "output_type": "stream",
     "text": [
      "✅ CLIP model loaded successfully\n",
      "Model device: cpu\n"
     ]
    },
    {
     "name": "stderr",
     "output_type": "stream",
     "text": [
      "Exception ignored in: <function tqdm.__del__ at 0x000001F5CE83DA80>\n",
      "Traceback (most recent call last):\n",
      "  File \"C:\\Users\\00849\\visual-search-engine\\venv\\Lib\\site-packages\\tqdm\\std.py\", line 1148, in __del__\n",
      "    self.close()\n",
      "  File \"C:\\Users\\00849\\visual-search-engine\\venv\\Lib\\site-packages\\tqdm\\notebook.py\", line 279, in close\n",
      "    self.disp(bar_style='danger', check_delay=False)\n",
      "    ^^^^^^^^^\n",
      "AttributeError: 'tqdm' object has no attribute 'disp'\n"
     ]
    }
   ],
   "source": [
    "# Cell 3: Load CLIP Model\n",
    "print(\"Loading CLIP model...\")\n",
    "\n",
    "model = CLIPModel.from_pretrained(Config.CLIP_MODEL_NAME)\n",
    "processor = CLIPProcessor.from_pretrained(Config.CLIP_MODEL_NAME)\n",
    "\n",
    "model = model.to(Config.DEVICE)\n",
    "model.eval()\n",
    "\n",
    "print(\"✅ CLIP model loaded successfully\")\n",
    "print(f\"Model device: {next(model.parameters()).device}\")"
   ]
  },
  {
   "cell_type": "code",
   "execution_count": 7,
   "id": "c29f9608-13b8-4a8c-8a78-792064e35617",
   "metadata": {},
   "outputs": [
    {
     "name": "stdout",
     "output_type": "stream",
     "text": [
      "Current working directory:\n",
      "C:\\Users\\00849\\visual-search-engine\\notebooks\n",
      "\n",
      "Config paths:\n",
      "BASE_PATH: .\n",
      "BASE_PATH absolute: C:\\Users\\00849\\visual-search-engine\\notebooks\n",
      "PROCESSED_PATH: data\\processed\n",
      "PROCESSED_PATH absolute: C:\\Users\\00849\\visual-search-engine\\notebooks\\data\\processed\n",
      "\n",
      "Does PROCESSED_PATH exist?\n",
      "False\n",
      "\n",
      "Files in PROCESSED_PATH:\n",
      "  Directory doesn't exist!\n",
      "\n",
      "Looking for metadata at:\n",
      "data\\processed\\metadata.json\n",
      "Exists: False\n"
     ]
    }
   ],
   "source": [
    "# Debug: Check paths\n",
    "import os\n",
    "\n",
    "print(\"Current working directory:\")\n",
    "print(os.getcwd())\n",
    "\n",
    "print(\"\\nConfig paths:\")\n",
    "print(f\"BASE_PATH: {Config.BASE_PATH}\")\n",
    "print(f\"BASE_PATH absolute: {Config.BASE_PATH.resolve()}\")\n",
    "print(f\"PROCESSED_PATH: {Config.PROCESSED_PATH}\")\n",
    "print(f\"PROCESSED_PATH absolute: {Config.PROCESSED_PATH.resolve()}\")\n",
    "\n",
    "print(\"\\nDoes PROCESSED_PATH exist?\")\n",
    "print(Config.PROCESSED_PATH.exists())\n",
    "\n",
    "print(\"\\nFiles in PROCESSED_PATH:\")\n",
    "if Config.PROCESSED_PATH.exists():\n",
    "    for f in Config.PROCESSED_PATH.iterdir():\n",
    "        print(f\"  - {f.name}\")\n",
    "else:\n",
    "    print(\"  Directory doesn't exist!\")\n",
    "\n",
    "print(\"\\nLooking for metadata at:\")\n",
    "metadata_path = Config.PROCESSED_PATH / 'metadata.json'\n",
    "print(metadata_path)\n",
    "print(f\"Exists: {metadata_path.exists()}\")"
   ]
  },
  {
   "cell_type": "code",
   "execution_count": 10,
   "id": "7a90f07f-5a01-4623-9711-443045ecbeab",
   "metadata": {},
   "outputs": [
    {
     "name": "stdout",
     "output_type": "stream",
     "text": [
      "✅ Loaded metadata for 25 images\n"
     ]
    }
   ],
   "source": [
    "# Cell 4: Load Metadata\n",
    "metadata_path = Config.PROCESSED_PATH / 'metadata.json'\n",
    "\n",
    "with open(metadata_path, 'r') as f:\n",
    "    metadata = json.load(f)\n",
    "\n",
    "print(f\"✅ Loaded metadata for {len(metadata)} images\")"
   ]
  },
  {
   "cell_type": "code",
   "execution_count": 12,
   "id": "24706f5f-e8e1-4553-aec6-eaeb2fb161b8",
   "metadata": {},
   "outputs": [],
   "source": [
    "# Cell 5: Image Embedding Function\n",
    "def encode_images(image_paths, model, processor, device, batch_size=32):\n",
    "    \"\"\"\n",
    "    Generate embeddings for a batch of images\n",
    "    \n",
    "    Args:\n",
    "        image_paths: List of image file paths\n",
    "        model: CLIP model\n",
    "        processor: CLIP processor\n",
    "        device: torch device\n",
    "        batch_size: Batch size for processing\n",
    "        \n",
    "    Returns:\n",
    "        numpy array of embeddings\n",
    "    \"\"\"\n",
    "    all_embeddings = []\n",
    "    \n",
    "    # Process in batches\n",
    "    for i in tqdm(range(0, len(image_paths), batch_size), desc=\"Encoding images\"):\n",
    "        batch_paths = image_paths[i:i + batch_size]\n",
    "        batch_images = []\n",
    "        \n",
    "        # Load and preprocess images\n",
    "        for path in batch_paths:\n",
    "            try:\n",
    "                image = Image.open(path).convert('RGB')\n",
    "                batch_images.append(image)\n",
    "            except Exception as e:\n",
    "                print(f\"Error loading {path}: {e}\")\n",
    "                # Use a blank image as placeholder\n",
    "                batch_images.append(Image.new('RGB', (224, 224), color='black'))\n",
    "        \n",
    "        # Process batch\n",
    "        inputs = processor(images=batch_images, return_tensors=\"pt\", padding=True)\n",
    "        inputs = {k: v.to(device) for k, v in inputs.items()}\n",
    "        \n",
    "        # Generate embeddings\n",
    "        with torch.no_grad():\n",
    "            image_features = model.get_image_features(**inputs)\n",
    "            \n",
    "            # Normalize embeddings\n",
    "            image_features = image_features / image_features.norm(dim=-1, keepdim=True)\n",
    "        \n",
    "        # Move to CPU and convert to numpy\n",
    "        embeddings = image_features.cpu().numpy()\n",
    "        all_embeddings.append(embeddings)\n",
    "    \n",
    "    # Concatenate all batches\n",
    "    all_embeddings = np.vstack(all_embeddings)\n",
    "    \n",
    "    return all_embeddings"
   ]
  },
  {
   "cell_type": "code",
   "execution_count": 13,
   "id": "e439ea09-5478-4acc-bfde-7830370ce31a",
   "metadata": {},
   "outputs": [],
   "source": [
    "# Cell 6: Text Embedding Function\n",
    "def encode_text(texts, model, processor, device):\n",
    "    \"\"\"\n",
    "    Generate embeddings for text queries\n",
    "    \n",
    "    Args:\n",
    "        texts: List of text strings\n",
    "        model: CLIP model\n",
    "        processor: CLIP processor\n",
    "        device: torch device\n",
    "        \n",
    "    Returns:\n",
    "        numpy array of embeddings\n",
    "    \"\"\"\n",
    "    inputs = processor(text=texts, return_tensors=\"pt\", padding=True)\n",
    "    inputs = {k: v.to(device) for k, v in inputs.items()}\n",
    "    \n",
    "    with torch.no_grad():\n",
    "        text_features = model.get_text_features(**inputs)\n",
    "        \n",
    "        # Normalize embeddings\n",
    "        text_features = text_features / text_features.norm(dim=-1, keepdim=True)\n",
    "    \n",
    "    return text_features.cpu().numpy()"
   ]
  },
  {
   "cell_type": "code",
   "execution_count": 14,
   "id": "e9905386-8dfc-42f4-ac60-c436e72af72f",
   "metadata": {},
   "outputs": [
    {
     "name": "stdout",
     "output_type": "stream",
     "text": [
      "Generating image embeddings...\n",
      "Note: Using synthetic embeddings for demo\n",
      "In production, uncomment the image_paths line above\n",
      "✅ Generated embeddings shape: (25, 512)\n"
     ]
    }
   ],
   "source": [
    "# Cell 7: Generate Image Embeddings\n",
    "print(\"Generating image embeddings...\")\n",
    "\n",
    "# For demo purposes, create dummy image paths\n",
    "# In practice, use actual image paths from your dataset\n",
    "# image_paths = [Config.DATA_PATH / 'raw' / 'images' / f\"{item['id']}.jpg\" \n",
    "#                for item in metadata]\n",
    "\n",
    "# For this demo, we'll create synthetic embeddings\n",
    "# Replace this with actual image encoding in your implementation\n",
    "print(\"Note: Using synthetic embeddings for demo\")\n",
    "print(\"In production, uncomment the image_paths line above\")\n",
    "\n",
    "# Synthetic embeddings (512-dimensional for CLIP ViT-B/32)\n",
    "embedding_dim = 512\n",
    "image_embeddings = np.random.randn(len(metadata), embedding_dim).astype(np.float32)\n",
    "\n",
    "# Normalize\n",
    "image_embeddings = image_embeddings / np.linalg.norm(image_embeddings, axis=1, keepdims=True)\n",
    "\n",
    "print(f\"✅ Generated embeddings shape: {image_embeddings.shape}\")\n",
    "\n",
    "# Real implementation would be:\n",
    "# image_embeddings = encode_images(image_paths, model, processor, Config.DEVICE, Config.BATCH_SIZE)"
   ]
  },
  {
   "cell_type": "code",
   "execution_count": 15,
   "id": "3f91c602-6916-415d-8bf8-63916ec01047",
   "metadata": {},
   "outputs": [
    {
     "name": "stdout",
     "output_type": "stream",
     "text": [
      "✅ Embeddings saved to: ..\\data\\embeddings\\image_embeddings.npy\n",
      "✅ Metadata with indices saved to: ..\\data\\embeddings\\metadata_with_indices.json\n"
     ]
    }
   ],
   "source": [
    "# Cell 8: Save Embeddings\n",
    "embeddings_file = Config.EMBEDDINGS_PATH / 'image_embeddings.npy'\n",
    "np.save(embeddings_file, image_embeddings)\n",
    "\n",
    "print(f\"✅ Embeddings saved to: {embeddings_file}\")\n",
    "\n",
    "# Save metadata with embedding indices\n",
    "for i, item in enumerate(metadata):\n",
    "    item['embedding_index'] = i\n",
    "\n",
    "metadata_with_indices = Config.EMBEDDINGS_PATH / 'metadata_with_indices.json'\n",
    "with open(metadata_with_indices, 'w') as f:\n",
    "    json.dump(metadata, f, indent=2)\n",
    "\n",
    "print(f\"✅ Metadata with indices saved to: {metadata_with_indices}\")"
   ]
  },
  {
   "cell_type": "code",
   "execution_count": 16,
   "id": "c2f2f46a-d686-44ac-a6d5-a5eca382dea6",
   "metadata": {},
   "outputs": [
    {
     "name": "stdout",
     "output_type": "stream",
     "text": [
      "\n",
      "Testing text query encoding...\n",
      "✅ Text embeddings shape: (5, 512)\n"
     ]
    }
   ],
   "source": [
    "# Cell 9: Test Text Queries\n",
    "print(\"\\nTesting text query encoding...\")\n",
    "\n",
    "sample_queries = [\n",
    "    \"a photo of a cat\",\n",
    "    \"sunset over mountains\",\n",
    "    \"person walking in city\",\n",
    "    \"delicious food on plate\",\n",
    "    \"modern architecture\"\n",
    "]\n",
    "\n",
    "text_embeddings = encode_text(sample_queries, model, processor, Config.DEVICE)\n",
    "\n",
    "print(f\"✅ Text embeddings shape: {text_embeddings.shape}\")"
   ]
  },
  {
   "cell_type": "code",
   "execution_count": 17,
   "id": "3bff195a-a9e9-424b-bd4c-10e6a30dffcf",
   "metadata": {},
   "outputs": [
    {
     "name": "stdout",
     "output_type": "stream",
     "text": [
      "\n",
      "Query: 'a photo of a cat'\n",
      "\n",
      "Top 5 matches:\n",
      "1. Image 19: people image 19 (similarity: 0.1166)\n",
      "2. Image 4: city image 4 (similarity: 0.0828)\n",
      "3. Image 2: city image 2 (similarity: 0.0773)\n",
      "4. Image 16: nature image 16 (similarity: 0.0759)\n",
      "5. Image 8: food image 8 (similarity: 0.0713)\n"
     ]
    }
   ],
   "source": [
    "# Cell 10: Similarity Search Test\n",
    "def compute_similarity(query_embedding, image_embeddings):\n",
    "    \"\"\"\n",
    "    Compute cosine similarity between query and all images\n",
    "    \n",
    "    Args:\n",
    "        query_embedding: Query embedding (1, dim)\n",
    "        image_embeddings: Image embeddings (n, dim)\n",
    "        \n",
    "    Returns:\n",
    "        Similarity scores (n,)\n",
    "    \"\"\"\n",
    "    # Cosine similarity (embeddings are already normalized)\n",
    "    similarities = np.dot(image_embeddings, query_embedding.T).squeeze()\n",
    "    return similarities\n",
    "\n",
    "# Test with first query\n",
    "query_emb = text_embeddings[0:1]\n",
    "similarities = compute_similarity(query_emb, image_embeddings)\n",
    "\n",
    "# Get top 5 matches\n",
    "top_k = 5\n",
    "top_indices = np.argsort(similarities)[-top_k:][::-1]\n",
    "\n",
    "print(f\"\\nQuery: '{sample_queries[0]}'\")\n",
    "print(\"\\nTop 5 matches:\")\n",
    "for rank, idx in enumerate(top_indices, 1):\n",
    "    print(f\"{rank}. Image {idx}: {metadata[idx].get('description', 'N/A')} \"\n",
    "          f\"(similarity: {similarities[idx]:.4f})\")"
   ]
  },
  {
   "cell_type": "code",
   "execution_count": 18,
   "id": "4023f761-fb0c-4be9-9376-7945eb9f1566",
   "metadata": {},
   "outputs": [
    {
     "name": "stdout",
     "output_type": "stream",
     "text": [
      "\n",
      "Visualizing embedding space with PCA...\n"
     ]
    },
    {
     "data": {
      "image/png": "[encoded data removed]",
      "text/plain": [
       "<Figure size 1200x800 with 1 Axes>"
      ]
     },
     "metadata": {},
     "output_type": "display_data"
    },
    {
     "name": "stdout",
     "output_type": "stream",
     "text": [
      "✅ Visualization saved to: ..\\data\\embeddings\\embeddings_pca.png\n"
     ]
    }
   ],
   "source": [
    "# Cell 11: Visualize Embedding Space\n",
    "from sklearn.decomposition import PCA\n",
    "from sklearn.manifold import TSNE\n",
    "\n",
    "print(\"\\nVisualizing embedding space with PCA...\")\n",
    "\n",
    "# Use PCA to reduce to 2D\n",
    "pca = PCA(n_components=2)\n",
    "embeddings_2d = pca.fit_transform(image_embeddings)\n",
    "\n",
    "# Plot\n",
    "plt.figure(figsize=(12, 8))\n",
    "\n",
    "# Color by category if available\n",
    "if 'category' in metadata[0]:\n",
    "    categories = [item['category'] for item in metadata]\n",
    "    unique_categories = list(set(categories))\n",
    "    colors = plt.cm.tab10(np.linspace(0, 1, len(unique_categories)))\n",
    "    \n",
    "    for i, category in enumerate(unique_categories):\n",
    "        mask = np.array(categories) == category\n",
    "        plt.scatter(\n",
    "            embeddings_2d[mask, 0],\n",
    "            embeddings_2d[mask, 1],\n",
    "            c=[colors[i]],\n",
    "            label=category,\n",
    "            alpha=0.6,\n",
    "            s=50\n",
    "        )\n",
    "    \n",
    "    plt.legend()\n",
    "else:\n",
    "    plt.scatter(embeddings_2d[:, 0], embeddings_2d[:, 1], alpha=0.6, s=50)\n",
    "\n",
    "plt.title('Image Embeddings Visualization (PCA)')\n",
    "plt.xlabel('PC 1')\n",
    "plt.ylabel('PC 2')\n",
    "plt.grid(True, alpha=0.3)\n",
    "plt.tight_layout()\n",
    "\n",
    "visualization_path = Config.EMBEDDINGS_PATH / 'embeddings_pca.png'\n",
    "plt.savefig(visualization_path, dpi=150, bbox_inches='tight')\n",
    "plt.show()\n",
    "\n",
    "print(f\"✅ Visualization saved to: {visualization_path}\")"
   ]
  },
  {
   "cell_type": "code",
   "execution_count": 19,
   "id": "e984ad36-27cc-45e5-b999-10731eb9b405",
   "metadata": {},
   "outputs": [
    {
     "name": "stdout",
     "output_type": "stream",
     "text": [
      "\n",
      "📊 Embedding Statistics\n",
      "==================================================\n",
      "Number of images: 25\n",
      "Embedding dimension: 512\n",
      "Embedding mean: -0.000265\n",
      "Embedding std: 0.044193\n",
      "Embedding min: -0.188277\n",
      "Embedding max: 0.177532\n",
      "\n",
      "Embedding norms (should be ~1.0):\n",
      "  Mean: 1.000000\n",
      "  Std: 0.000000\n",
      "  Min: 1.000000\n",
      "  Max: 1.000000\n"
     ]
    }
   ],
   "source": [
    "# Cell 12: Embedding Statistics\n",
    "print(\"\\n📊 Embedding Statistics\")\n",
    "print(\"=\" * 50)\n",
    "print(f\"Number of images: {len(image_embeddings)}\")\n",
    "print(f\"Embedding dimension: {image_embeddings.shape[1]}\")\n",
    "print(f\"Embedding mean: {image_embeddings.mean():.6f}\")\n",
    "print(f\"Embedding std: {image_embeddings.std():.6f}\")\n",
    "print(f\"Embedding min: {image_embeddings.min():.6f}\")\n",
    "print(f\"Embedding max: {image_embeddings.max():.6f}\")\n",
    "\n",
    "# Check normalization\n",
    "norms = np.linalg.norm(image_embeddings, axis=1)\n",
    "print(f\"\\nEmbedding norms (should be ~1.0):\")\n",
    "print(f\"  Mean: {norms.mean():.6f}\")\n",
    "print(f\"  Std: {norms.std():.6f}\")\n",
    "print(f\"  Min: {norms.min():.6f}\")\n",
    "print(f\"  Max: {norms.max():.6f}\")"
   ]
  },
  {
   "cell_type": "code",
   "execution_count": 20,
   "id": "e3811eff-0d4d-49d8-81ec-ec1de235395c",
   "metadata": {},
   "outputs": [
    {
     "name": "stdout",
     "output_type": "stream",
     "text": [
      "\n",
      "📋 Summary:\n",
      "  model: openai/clip-vit-base-patch32\n",
      "  device: cpu\n",
      "  num_images: 25\n",
      "  embedding_dim: 512\n",
      "  embeddings_file: ..\\data\\embeddings\\image_embeddings.npy\n",
      "  metadata_file: ..\\data\\embeddings\\metadata_with_indices.json\n",
      "\n",
      "✅ Summary saved to: ..\\data\\embeddings\\embedding_summary.json\n"
     ]
    }
   ],
   "source": [
    "# Cell 13: Summary\n",
    "summary = {\n",
    "    'model': Config.CLIP_MODEL_NAME,\n",
    "    'device': Config.DEVICE,\n",
    "    'num_images': len(image_embeddings),\n",
    "    'embedding_dim': int(image_embeddings.shape[1]),\n",
    "    'embeddings_file': str(embeddings_file),\n",
    "    'metadata_file': str(metadata_with_indices)\n",
    "}\n",
    "\n",
    "print(\"\\n📋 Summary:\")\n",
    "for key, value in summary.items():\n",
    "    print(f\"  {key}: {value}\")\n",
    "\n",
    "# Save summary\n",
    "summary_file = Config.EMBEDDINGS_PATH / 'embedding_summary.json'\n",
    "with open(summary_file, 'w') as f:\n",
    "    json.dump(summary, f, indent=2)\n",
    "\n",
    "print(f\"\\n✅ Summary saved to: {summary_file}\")"
   ]
  },
  {
   "cell_type": "code",
   "execution_count": 21,
   "id": "34699067-21f2-40f6-a367-bb03e7d2bedc",
   "metadata": {},
   "outputs": [
    {
     "name": "stdout",
     "output_type": "stream",
     "text": [
      "\n",
      "🎉 Embedding generation complete!\n",
      "\n",
      "Next steps:\n",
      "1. ✅ Image embeddings generated\n",
      "2. ✅ Text query encoding tested\n",
      "3. ⏭️  Run notebook 03_retrieval_experiments.ipynb\n",
      "4. ⏭️  Build vector database for efficient search\n",
      "5. ⏭️  Create API for search functionality\n"
     ]
    }
   ],
   "source": [
    "# Cell 14: Next Steps\n",
    "print(\"\\n🎉 Embedding generation complete!\")\n",
    "print(\"\\nNext steps:\")\n",
    "print(\"1. ✅ Image embeddings generated\")\n",
    "print(\"2. ✅ Text query encoding tested\")\n",
    "print(\"3. ⏭️  Run notebook 03_retrieval_experiments.ipynb\")\n",
    "print(\"4. ⏭️  Build vector database for efficient search\")\n",
    "print(\"5. ⏭️  Create API for search functionality\")"
   ]
  },
  {
   "cell_type": "code",
   "execution_count": null,
   "id": "8e7d0eea-3aff-4725-b1c4-1ce01b83e30e",
   "metadata": {},
   "outputs": [],
   "source": []
  }
 ],
 "metadata": {
  "kernelspec": {
   "display_name": "Python 3 (ipykernel)",
   "language": "python",
   "name": "python3"
  },
  "language_info": {
   "codemirror_mode": {
    "name": "ipython",
    "version": 3
   },
   "file_extension": ".py",
   "mimetype": "text/x-python",
   "name": "python",
   "nbconvert_exporter": "python",
   "pygments_lexer": "ipython3",
   "version": "3.11.9"
  }
 },
 "nbformat": 4,
 "nbformat_minor": 5
}
